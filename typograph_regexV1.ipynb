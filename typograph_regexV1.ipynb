{
  "nbformat": 4,
  "nbformat_minor": 0,
  "metadata": {
    "colab": {
      "name": "typograph_regexV1.ipynb",
      "provenance": [],
      "collapsed_sections": []
    },
    "kernelspec": {
      "name": "python3",
      "display_name": "Python 3"
    },
    "language_info": {
      "name": "python"
    }
  },
  "cells": [
    {
      "cell_type": "markdown",
      "source": [
        "Programm performs typographycal edits:\n",
        "- deletes repeated words and excessive spaces in line\n",
        "- replaces weird quote marks\n",
        "- replaces wrong dashes where needed"
      ],
      "metadata": {
        "id": "DlvfB_BOLnXS"
      }
    },
    {
      "cell_type": "code",
      "source": [
        "import re\n",
        "\n",
        "\n",
        "def repeat(line): #deletes repeated words in line\n",
        "  result = re.sub(r'\\b([^\\W\\d_]+)(\\s+\\1)+\\b', r'\\1', line, flags=re.I)\n",
        "  result = re.sub(r'(\\s)+', r'\\1', result)\n",
        "\n",
        "  return result\n",
        "\n",
        "def quotes(line): #replaces weird quotes with normal quotes + deletes excessive ones\n",
        "  result = re.sub(r'(\\s)[\"“]([А-Яа-я])', r'\\1«\\2', line)\n",
        "  result = re.sub(r'([А-Яа-я])[\"”](\\W)', r'\\1»\\2', result)\n",
        "  result = re.sub(r'(\\w+)\\\"(\\w+)', r'\\1\\2', result)\n",
        "  result = re.sub(r'(\\s+)\\\"(\\s+)', r'\\1', result)\n",
        "\n",
        "  return result\n",
        "\n",
        "def replace_dash(line): #replaces weird dashes where needed + deletes excessive ones\n",
        "  result = re.sub(r'(\\s+)[-‒—](\\s+)', r'\\1–\\2', line)\n",
        "  result = re.sub(r'(\\w+)[–‒—](\\w+)', r'\\1-\\2', result)\n",
        "  return result\n",
        "\n",
        "def main():\n",
        "  line = input()\n",
        "  result = repeat(line)\n",
        "  result = quotes(result)\n",
        "  result = replace_dash(result)\n",
        "  return result\n",
        "\n",
        "main()"
      ],
      "metadata": {
        "id": "vFcVfB_zSSX6"
      },
      "execution_count": null,
      "outputs": []
    }
  ]
}